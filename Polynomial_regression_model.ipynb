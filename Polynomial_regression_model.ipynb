{
 "cells": [
  {
   "cell_type": "markdown",
   "metadata": {},
   "source": [
    "## Predicting gene lenght - multiple regression model"
   ]
  },
  {
   "cell_type": "markdown",
   "metadata": {},
   "source": [
    "I aim to predict gene length base on the bases composition and chromosome at which the gene is localized. Previous charts do not show a particular pattern, therefor I do not expect a wonderful performance. But let's try anyway."
   ]
  },
  {
   "cell_type": "code",
   "execution_count": 1,
   "metadata": {},
   "outputs": [],
   "source": [
    "# Importing modules\n",
    "import pandas as pd\n",
    "import matplotlib.pyplot as plt\n",
    "import seaborn as sns\n",
    "import numpy as np\n",
    "from sklearn.linear_model import LinearRegression\n",
    "from sklearn.preprocessing import PolynomialFeatures\n",
    "from sklearn.model_selection import cross_validate, GridSearchCV\n",
    "from sklearn.pipeline import make_pipeline\n",
    "from sklearn.metrics import make_scorer, mean_squared_error, median_absolute_error, r2_score\n",
    "from sklearn.decomposition import PCA"
   ]
  },
  {
   "cell_type": "code",
   "execution_count": 2,
   "metadata": {},
   "outputs": [
    {
     "data": {
      "text/html": [
       "<div>\n",
       "<style scoped>\n",
       "    .dataframe tbody tr th:only-of-type {\n",
       "        vertical-align: middle;\n",
       "    }\n",
       "\n",
       "    .dataframe tbody tr th {\n",
       "        vertical-align: top;\n",
       "    }\n",
       "\n",
       "    .dataframe thead th {\n",
       "        text-align: right;\n",
       "    }\n",
       "</style>\n",
       "<table border=\"1\" class=\"dataframe\">\n",
       "  <thead>\n",
       "    <tr style=\"text-align: right;\">\n",
       "      <th></th>\n",
       "      <th>gene_ID</th>\n",
       "      <th>chromosome</th>\n",
       "      <th>gene_length[bp]</th>\n",
       "      <th>A_content[%]</th>\n",
       "      <th>T_content[%]</th>\n",
       "      <th>C_content[%]</th>\n",
       "      <th>G_content[%]</th>\n",
       "      <th>GC_content[%]</th>\n",
       "      <th>category</th>\n",
       "    </tr>\n",
       "  </thead>\n",
       "  <tbody>\n",
       "    <tr>\n",
       "      <th>0</th>\n",
       "      <td>YAL001C</td>\n",
       "      <td>I</td>\n",
       "      <td>3573</td>\n",
       "      <td>35.32046</td>\n",
       "      <td>27.59586</td>\n",
       "      <td>15.81304</td>\n",
       "      <td>21.27064</td>\n",
       "      <td>37.08368</td>\n",
       "      <td>GC content below \\nlength above</td>\n",
       "    </tr>\n",
       "    <tr>\n",
       "      <th>1</th>\n",
       "      <td>YAL002W</td>\n",
       "      <td>I</td>\n",
       "      <td>3825</td>\n",
       "      <td>31.89542</td>\n",
       "      <td>30.92810</td>\n",
       "      <td>18.74510</td>\n",
       "      <td>18.43137</td>\n",
       "      <td>37.17647</td>\n",
       "      <td>GC content below \\nlength above</td>\n",
       "    </tr>\n",
       "    <tr>\n",
       "      <th>2</th>\n",
       "      <td>YAL003W</td>\n",
       "      <td>I</td>\n",
       "      <td>987</td>\n",
       "      <td>29.68592</td>\n",
       "      <td>31.10436</td>\n",
       "      <td>18.84498</td>\n",
       "      <td>20.36474</td>\n",
       "      <td>39.20972</td>\n",
       "      <td>GC content below \\nlength below</td>\n",
       "    </tr>\n",
       "    <tr>\n",
       "      <th>3</th>\n",
       "      <td>YAL005C</td>\n",
       "      <td>I</td>\n",
       "      <td>1929</td>\n",
       "      <td>29.13427</td>\n",
       "      <td>26.80145</td>\n",
       "      <td>21.15086</td>\n",
       "      <td>22.91343</td>\n",
       "      <td>44.06429</td>\n",
       "      <td>GC content above \\nlength above</td>\n",
       "    </tr>\n",
       "    <tr>\n",
       "      <th>4</th>\n",
       "      <td>YAL007C</td>\n",
       "      <td>I</td>\n",
       "      <td>648</td>\n",
       "      <td>30.86420</td>\n",
       "      <td>32.09877</td>\n",
       "      <td>17.59259</td>\n",
       "      <td>19.44444</td>\n",
       "      <td>37.03703</td>\n",
       "      <td>GC content below \\nlength below</td>\n",
       "    </tr>\n",
       "  </tbody>\n",
       "</table>\n",
       "</div>"
      ],
      "text/plain": [
       "   gene_ID chromosome  gene_length[bp]  A_content[%]  T_content[%]  \\\n",
       "0  YAL001C          I             3573      35.32046      27.59586   \n",
       "1  YAL002W          I             3825      31.89542      30.92810   \n",
       "2  YAL003W          I              987      29.68592      31.10436   \n",
       "3  YAL005C          I             1929      29.13427      26.80145   \n",
       "4  YAL007C          I              648      30.86420      32.09877   \n",
       "\n",
       "   C_content[%]  G_content[%]  GC_content[%]                         category  \n",
       "0      15.81304      21.27064       37.08368  GC content below \\nlength above  \n",
       "1      18.74510      18.43137       37.17647  GC content below \\nlength above  \n",
       "2      18.84498      20.36474       39.20972  GC content below \\nlength below  \n",
       "3      21.15086      22.91343       44.06429  GC content above \\nlength above  \n",
       "4      17.59259      19.44444       37.03703  GC content below \\nlength below  "
      ]
     },
     "execution_count": 2,
     "metadata": {},
     "output_type": "execute_result"
    }
   ],
   "source": [
    "# Importing data from previously saved all_genes_df csv file.\n",
    "all_genes_df = pd.read_csv('data/all_genes_df.csv')\n",
    "all_genes_df.head()"
   ]
  },
  {
   "cell_type": "markdown",
   "metadata": {},
   "source": [
    "Before creating a regression model, it's good to convert non-numeric type of data into numeric type of data, which is the case for chromosomes column. For that, I will use map() function."
   ]
  },
  {
   "cell_type": "code",
   "execution_count": 3,
   "metadata": {},
   "outputs": [],
   "source": [
    "chromosome_mapper = {}\n",
    "for index, value in enumerate(all_genes_df['chromosome'].unique()):\n",
    "    chromosome_mapper[value] = index + 1\n",
    "all_genes_df['chromosome'] = all_genes_df['chromosome'].map(chromosome_mapper)"
   ]
  },
  {
   "cell_type": "code",
   "execution_count": 4,
   "metadata": {},
   "outputs": [
    {
     "data": {
      "text/html": [
       "<div>\n",
       "<style scoped>\n",
       "    .dataframe tbody tr th:only-of-type {\n",
       "        vertical-align: middle;\n",
       "    }\n",
       "\n",
       "    .dataframe tbody tr th {\n",
       "        vertical-align: top;\n",
       "    }\n",
       "\n",
       "    .dataframe thead th {\n",
       "        text-align: right;\n",
       "    }\n",
       "</style>\n",
       "<table border=\"1\" class=\"dataframe\">\n",
       "  <thead>\n",
       "    <tr style=\"text-align: right;\">\n",
       "      <th></th>\n",
       "      <th>gene_ID</th>\n",
       "      <th>chromosome</th>\n",
       "      <th>gene_length[bp]</th>\n",
       "      <th>A_content[%]</th>\n",
       "      <th>T_content[%]</th>\n",
       "      <th>C_content[%]</th>\n",
       "      <th>G_content[%]</th>\n",
       "      <th>GC_content[%]</th>\n",
       "      <th>category</th>\n",
       "    </tr>\n",
       "  </thead>\n",
       "  <tbody>\n",
       "    <tr>\n",
       "      <th>0</th>\n",
       "      <td>YAL001C</td>\n",
       "      <td>1</td>\n",
       "      <td>3573</td>\n",
       "      <td>35.32046</td>\n",
       "      <td>27.59586</td>\n",
       "      <td>15.81304</td>\n",
       "      <td>21.27064</td>\n",
       "      <td>37.08368</td>\n",
       "      <td>GC content below \\nlength above</td>\n",
       "    </tr>\n",
       "    <tr>\n",
       "      <th>1</th>\n",
       "      <td>YAL002W</td>\n",
       "      <td>1</td>\n",
       "      <td>3825</td>\n",
       "      <td>31.89542</td>\n",
       "      <td>30.92810</td>\n",
       "      <td>18.74510</td>\n",
       "      <td>18.43137</td>\n",
       "      <td>37.17647</td>\n",
       "      <td>GC content below \\nlength above</td>\n",
       "    </tr>\n",
       "    <tr>\n",
       "      <th>2</th>\n",
       "      <td>YAL003W</td>\n",
       "      <td>1</td>\n",
       "      <td>987</td>\n",
       "      <td>29.68592</td>\n",
       "      <td>31.10436</td>\n",
       "      <td>18.84498</td>\n",
       "      <td>20.36474</td>\n",
       "      <td>39.20972</td>\n",
       "      <td>GC content below \\nlength below</td>\n",
       "    </tr>\n",
       "    <tr>\n",
       "      <th>3</th>\n",
       "      <td>YAL005C</td>\n",
       "      <td>1</td>\n",
       "      <td>1929</td>\n",
       "      <td>29.13427</td>\n",
       "      <td>26.80145</td>\n",
       "      <td>21.15086</td>\n",
       "      <td>22.91343</td>\n",
       "      <td>44.06429</td>\n",
       "      <td>GC content above \\nlength above</td>\n",
       "    </tr>\n",
       "    <tr>\n",
       "      <th>4</th>\n",
       "      <td>YAL007C</td>\n",
       "      <td>1</td>\n",
       "      <td>648</td>\n",
       "      <td>30.86420</td>\n",
       "      <td>32.09877</td>\n",
       "      <td>17.59259</td>\n",
       "      <td>19.44444</td>\n",
       "      <td>37.03703</td>\n",
       "      <td>GC content below \\nlength below</td>\n",
       "    </tr>\n",
       "  </tbody>\n",
       "</table>\n",
       "</div>"
      ],
      "text/plain": [
       "   gene_ID  chromosome  gene_length[bp]  A_content[%]  T_content[%]  \\\n",
       "0  YAL001C           1             3573      35.32046      27.59586   \n",
       "1  YAL002W           1             3825      31.89542      30.92810   \n",
       "2  YAL003W           1              987      29.68592      31.10436   \n",
       "3  YAL005C           1             1929      29.13427      26.80145   \n",
       "4  YAL007C           1              648      30.86420      32.09877   \n",
       "\n",
       "   C_content[%]  G_content[%]  GC_content[%]                         category  \n",
       "0      15.81304      21.27064       37.08368  GC content below \\nlength above  \n",
       "1      18.74510      18.43137       37.17647  GC content below \\nlength above  \n",
       "2      18.84498      20.36474       39.20972  GC content below \\nlength below  \n",
       "3      21.15086      22.91343       44.06429  GC content above \\nlength above  \n",
       "4      17.59259      19.44444       37.03703  GC content below \\nlength below  "
      ]
     },
     "execution_count": 4,
     "metadata": {},
     "output_type": "execute_result"
    }
   ],
   "source": [
    "all_genes_df.head()"
   ]
  },
  {
   "cell_type": "markdown",
   "metadata": {},
   "source": [
    "Done. Let's start building the model. Gene length is going to be predicted based on chromosome number and content of each of the bases - this parameters are potentially more informative than GC content only."
   ]
  },
  {
   "cell_type": "code",
   "execution_count": 5,
   "metadata": {},
   "outputs": [
    {
     "data": {
      "text/html": [
       "<div>\n",
       "<style scoped>\n",
       "    .dataframe tbody tr th:only-of-type {\n",
       "        vertical-align: middle;\n",
       "    }\n",
       "\n",
       "    .dataframe tbody tr th {\n",
       "        vertical-align: top;\n",
       "    }\n",
       "\n",
       "    .dataframe thead th {\n",
       "        text-align: right;\n",
       "    }\n",
       "</style>\n",
       "<table border=\"1\" class=\"dataframe\">\n",
       "  <thead>\n",
       "    <tr style=\"text-align: right;\">\n",
       "      <th></th>\n",
       "      <th>A_content[%]</th>\n",
       "      <th>T_content[%]</th>\n",
       "      <th>C_content[%]</th>\n",
       "      <th>G_content[%]</th>\n",
       "    </tr>\n",
       "  </thead>\n",
       "  <tbody>\n",
       "    <tr>\n",
       "      <th>0</th>\n",
       "      <td>35.32046</td>\n",
       "      <td>27.59586</td>\n",
       "      <td>15.81304</td>\n",
       "      <td>21.27064</td>\n",
       "    </tr>\n",
       "    <tr>\n",
       "      <th>1</th>\n",
       "      <td>31.89542</td>\n",
       "      <td>30.92810</td>\n",
       "      <td>18.74510</td>\n",
       "      <td>18.43137</td>\n",
       "    </tr>\n",
       "    <tr>\n",
       "      <th>2</th>\n",
       "      <td>29.68592</td>\n",
       "      <td>31.10436</td>\n",
       "      <td>18.84498</td>\n",
       "      <td>20.36474</td>\n",
       "    </tr>\n",
       "    <tr>\n",
       "      <th>3</th>\n",
       "      <td>29.13427</td>\n",
       "      <td>26.80145</td>\n",
       "      <td>21.15086</td>\n",
       "      <td>22.91343</td>\n",
       "    </tr>\n",
       "    <tr>\n",
       "      <th>4</th>\n",
       "      <td>30.86420</td>\n",
       "      <td>32.09877</td>\n",
       "      <td>17.59259</td>\n",
       "      <td>19.44444</td>\n",
       "    </tr>\n",
       "  </tbody>\n",
       "</table>\n",
       "</div>"
      ],
      "text/plain": [
       "   A_content[%]  T_content[%]  C_content[%]  G_content[%]\n",
       "0      35.32046      27.59586      15.81304      21.27064\n",
       "1      31.89542      30.92810      18.74510      18.43137\n",
       "2      29.68592      31.10436      18.84498      20.36474\n",
       "3      29.13427      26.80145      21.15086      22.91343\n",
       "4      30.86420      32.09877      17.59259      19.44444"
      ]
     },
     "execution_count": 5,
     "metadata": {},
     "output_type": "execute_result"
    }
   ],
   "source": [
    "features = all_genes_df.drop(['gene_ID', 'chromosome', 'gene_length[bp]', 'GC_content[%]', 'category'], axis=1)\n",
    "features.head()"
   ]
  },
  {
   "cell_type": "code",
   "execution_count": 5,
   "metadata": {},
   "outputs": [],
   "source": [
    "# Preparing y and X datasets.\n",
    "y = all_genes_df['gene_length[bp]']\n",
    "X = all_genes_df.drop(['gene_length[bp]', 'gene_ID', 'category', 'GC_content[%]'], axis=1)"
   ]
  },
  {
   "cell_type": "markdown",
   "metadata": {},
   "source": [
    "Model building road map:\n",
    "\n",
    "- polynomial regression model - it's good to check what degree of a polynomial will yield the best results, linear model may not be optimal.\n",
    "\n",
    "- nested cross-validation as a general good practice in model building. Inner loop done by GridSearchCV() function select optimal parameter (in our case a degree of a polynomial) for the model. Outer loop done by cross_validate() function results in more accurate model evaluation - testing model on several test sets prevents us from overestimating (or underestimating) model performance. To make sure that testing sets are not participating in model training, GridSearchCV() is used as an estimator argument in cross_validate().\n",
    "\n",
    "- R2 score will be used in GridSearchCV() as a metric for selecting optimal degree for the model.\n",
    "\n",
    "- I want to know what is the best degree selected by GridSearchCV() during each split done by cross_validate() to see if there is a 'universal' optimal degree for various training sets. For that, I extract the optimal degree for each split by using .best_params_. Results will be stored in best_degrees list.\n",
    "\n",
    "- several metrics will be used for model evaluation: mean of R2 scores, root mean square errors and median absolute errors and their standard deviations. These parameters will give us more information about model performance."
   ]
  },
  {
   "cell_type": "code",
   "execution_count": 6,
   "metadata": {},
   "outputs": [
    {
     "name": "stdout",
     "output_type": "stream",
     "text": [
      "Mean R2 score = 0.12 +/- 0.02\n",
      "Mean root mean square error = 1070.51 +/- 78.51\n",
      "Mean median absolute error = 568.66 +/- 23.33\n",
      "Selected optimal degrees: [3, 3, 3, 3, 3, 3, 3, 3, 3, 3]\n"
     ]
    }
   ],
   "source": [
    "# Defining an estimator and list of degrees for checking.\n",
    "poly = PolynomialFeatures()\n",
    "lin_reg = LinearRegression()\n",
    "estimator = make_pipeline(poly, lin_reg)\n",
    "\n",
    "# Selecting parameters for model tuning.\n",
    "param = {'polynomialfeatures__degree' : [1,2,3,4]}\n",
    "\n",
    "# Creating best_degrees list for storing best degrees in each cross_validate split.\n",
    "best_degrees = []\n",
    "\n",
    "# Preparing metrics for model evaluation on test sets.\n",
    "scoring = {'r2' : make_scorer(r2_score), \\\n",
    "           'mse' : make_scorer(mean_squared_error), \\\n",
    "           'mae' : make_scorer(median_absolute_error)}\n",
    "\n",
    "# Performing nested cross-validation. R2 score for model tuning and metrics in scoring for model evaluation.\n",
    "cv_inner = 10\n",
    "cv_outer = 10\n",
    "\n",
    "best_model = GridSearchCV(estimator, param, cv=cv_inner, scoring='r2')\n",
    "scores = cross_validate(best_model, X, y, cv=cv_outer, scoring=scoring, return_estimator=True)\n",
    "\n",
    "# Calculating means and standard deviations of each metric scores from splits done by cross_validate().\n",
    "r2_mean = round((scores['test_r2']).mean(), 2)\n",
    "r2_std = round((scores['test_r2']).std(), 2)\n",
    "\n",
    "rmse_mean = round((scores['test_mse']**0.5).mean(), 2) # Extracting roots from mean_squared_errors.\n",
    "rmse_std = round((scores['test_mse']**0.5).std(), 2)\n",
    "\n",
    "mae_mean = round((scores['test_mae']).mean(), 2)\n",
    "mae_std = round((scores['test_mae']).std(), 2)\n",
    "\n",
    "# Extracting best_params for each cross_validate() (outer loop) split.\n",
    "for i in range(cv_outer):\n",
    "    best_degrees.append(scores['estimator'][i].best_params_['polynomialfeatures__degree'])\n",
    "\n",
    "\n",
    "# Results of the model evaluation\n",
    "print('Mean R2 score =', r2_mean, \"+/-\", r2_std)\n",
    "print('Mean root mean square error =', rmse_mean, \"+/-\", rmse_std)\n",
    "print('Mean median absolute error =', mae_mean, \"+/-\", mae_std)\n",
    "print('Selected optimal degrees:', best_degrees)"
   ]
  },
  {
   "cell_type": "markdown",
   "metadata": {},
   "source": [
    "As predicted in data exploration part, my regression model predicting gene length is useless. Standard deviations for each metrics are rather low, which shows that model performs comparably in various tests sets. In each split in outer loop the most optimal degree for model functioning is 3.\n",
    "\n",
    "The model evaluation is not encouraging, but it is still interesting that the R2 score, despite being very low, is above 0. One would expect that gene length, chromosome localization and bases contents are independent features, but here I show that there is a weak relationship between them. Another interesting finding is that median absolute error is much lower than root mean square error. This means that for some genes model performs much better, having a mistake below 568 bases for 50% of the genes, while for the whole dataset the average error is 1070 bases.\n",
    "\n",
    "The GridSearchCV() function, in each cross_validate() split, always selected 3 as the optimal degree. I still want to see how model performs for other degrees. I create a loop in which a desired number of degrees will be tested and evaluation metrics (R2 score, root mean square error, median absolute error) will be shown for each degree. A single cross-validation will be performed since we want metrics for each degree. Because data sets are split the same way during each round of cross-validation, degrees will be tested on the same datasets. Below I present results of evaluations of model with various polynomial degrees."
   ]
  },
  {
   "cell_type": "code",
   "execution_count": 14,
   "metadata": {},
   "outputs": [
    {
     "data": {
      "image/png": "[encoded data removed]",
      "text/plain": [
       "<Figure size 360x720 with 3 Axes>"
      ]
     },
     "metadata": {
      "needs_background": "light"
     },
     "output_type": "display_data"
    }
   ],
   "source": [
    "# Defining degrees for testing\n",
    "degrees = list(range(1, 5))\n",
    "\n",
    "# Preparing lists for storing metric score means and standard deviations\n",
    "r2_means = []\n",
    "rmse_means = []\n",
    "mae_means = []\n",
    "\n",
    "r2_std = []\n",
    "rmse_std = []\n",
    "mae_std = []\n",
    "\n",
    "\n",
    "# Loop collecting metric scores for each degree\n",
    "for deg in degrees:\n",
    "    poly = PolynomialFeatures(deg)\n",
    "    lin_reg = LinearRegression()\n",
    "    estimator = make_pipeline(poly, lin_reg)\n",
    "\n",
    "    # Preparing metrics\n",
    "    scoring = {'r2' : make_scorer(r2_score), \\\n",
    "               'mse' : make_scorer(mean_squared_error), \\\n",
    "               'mae' : make_scorer(median_absolute_error)}\n",
    "\n",
    "    # Cross-validation    \n",
    "    scores = cross_validate(estimator, X, y, cv=10, scoring=scoring)\n",
    "\n",
    "    # Appending lists of means and stds\n",
    "    r2_means.append((scores['test_r2']).mean())\n",
    "    rmse_means.append((scores['test_mse']**0.5).mean()) # root of mse\n",
    "    mae_means.append((scores['test_mae']).mean()) # converting for absolute values\n",
    "\n",
    "    r2_std.append((scores['test_r2']).std())\n",
    "    rmse_std.append((scores['test_mse']**0.5).std()) # root of mse\n",
    "    mae_std.append((scores['test_mae']).std()) # converting for absolute values\n",
    "\n",
    "\n",
    "# Plotting models evaluations\n",
    "fig, (ax1, ax2, ax3) = plt.subplots(3)\n",
    "fig.set_size_inches([5, 10])\n",
    "\n",
    "ax1.errorbar(degrees, r2_means, yerr=r2_std, capsize=5, marker='o', linestyle='none')\n",
    "ax1.set_title('R2 score')\n",
    "ax1.set_xticks(degrees)\n",
    "ax1.set_xlabel('Polynomial degree')\n",
    "\n",
    "ax2.errorbar(degrees, rmse_means, yerr=rmse_std, capsize=5, marker='o', linestyle='none')\n",
    "ax2.set_title('Root mean squared error')\n",
    "ax2.set_xticks(degrees)\n",
    "ax2.set_xlabel('Polynomial degree')\n",
    "\n",
    "ax3.errorbar(degrees, mae_means, yerr=mae_std, capsize=5, marker='o', linestyle='none')\n",
    "ax3.set_title('Median absolute error')\n",
    "ax3.set_xticks(degrees)\n",
    "ax3.set_xlabel('Polynomial degree')\n",
    "\n",
    "plt.tight_layout(pad=3)\n",
    "plt.savefig('images/regression_evaluation.png', dpi=600)\n",
    "plt.show()"
   ]
  },
  {
   "cell_type": "markdown",
   "metadata": {},
   "source": [
    "The chart shows that 3 indeed seems to be optimal degree - not only R2 score is the highest, the errors for other metrics are the lowest.\n",
    "\n",
    "I played a bit with higher degrees, however above the 4th degree the model becomes very unstable (huge standard deviations) and difference between 1sth and 4th degrees are not visible on the chart, so I leave charts up to the 4th degree only."
   ]
  },
  {
   "cell_type": "markdown",
   "metadata": {},
   "source": [
    "Because we did some changes in our data frame (like converting chromosomes to numeric data type), let's save it in a new csv file."
   ]
  },
  {
   "cell_type": "code",
   "execution_count": 18,
   "metadata": {},
   "outputs": [],
   "source": [
    "all_genes_df.to_csv('data/all_genes_df_converted.csv', index_label=False)"
   ]
  }
 ],
 "metadata": {
  "kernelspec": {
   "display_name": "Python 3",
   "language": "python",
   "name": "python3"
  },
  "language_info": {
   "codemirror_mode": {
    "name": "ipython",
    "version": 3
   },
   "file_extension": ".py",
   "mimetype": "text/x-python",
   "name": "python",
   "nbconvert_exporter": "python",
   "pygments_lexer": "ipython3",
   "version": "3.6.4"
  }
 },
 "nbformat": 4,
 "nbformat_minor": 4
}
