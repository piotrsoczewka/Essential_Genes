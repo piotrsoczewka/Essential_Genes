{
 "cells": [
  {
   "cell_type": "markdown",
   "metadata": {},
   "source": [
    "## Predicting gene lenght - multiple regression model"
   ]
  },
  {
   "cell_type": "markdown",
   "metadata": {},
   "source": [
    "I aim to predict gene lenght base on the bases composition and chromosome at which the gene is localised. Previous charts do not show a particular pattern, therefor I do not expect a wonderful performance. But let's try anyway."
   ]
  },
  {
   "cell_type": "code",
   "execution_count": 17,
   "metadata": {},
   "outputs": [],
   "source": [
    "# importing desired libraries and functions\n",
    "\n",
    "import pandas as pd\n",
    "import matplotlib.pyplot as plt\n",
    "import random\n",
    "\n",
    "from sklearn.model_selection import train_test_split\n",
    "from sklearn.linear_model import LinearRegression\n",
    "from sklearn.preprocessing import PolynomialFeatures\n",
    "from sklearn.model_selection import cross_validate, GridSearchCV\n",
    "from sklearn.pipeline import make_pipeline\n",
    "from sklearn.metrics import make_scorer, mean_squared_error, median_absolute_error, r2_score"
   ]
  },
  {
   "cell_type": "code",
   "execution_count": 21,
   "metadata": {},
   "outputs": [],
   "source": [
    "random.seed(10)"
   ]
  },
  {
   "cell_type": "code",
   "execution_count": 2,
   "metadata": {},
   "outputs": [
    {
     "data": {
      "text/html": [
       "<div>\n",
       "<style scoped>\n",
       "    .dataframe tbody tr th:only-of-type {\n",
       "        vertical-align: middle;\n",
       "    }\n",
       "\n",
       "    .dataframe tbody tr th {\n",
       "        vertical-align: top;\n",
       "    }\n",
       "\n",
       "    .dataframe thead th {\n",
       "        text-align: right;\n",
       "    }\n",
       "</style>\n",
       "<table border=\"1\" class=\"dataframe\">\n",
       "  <thead>\n",
       "    <tr style=\"text-align: right;\">\n",
       "      <th></th>\n",
       "      <th>Unnamed: 0</th>\n",
       "      <th>gene_ID</th>\n",
       "      <th>chromosome</th>\n",
       "      <th>gene_length[bp]</th>\n",
       "      <th>A_content[%]</th>\n",
       "      <th>T_content[%]</th>\n",
       "      <th>C_content[%]</th>\n",
       "      <th>G_content[%]</th>\n",
       "      <th>GC_content[%]</th>\n",
       "      <th>category</th>\n",
       "    </tr>\n",
       "  </thead>\n",
       "  <tbody>\n",
       "    <tr>\n",
       "      <th>0</th>\n",
       "      <td>0</td>\n",
       "      <td>YAL001C</td>\n",
       "      <td>I</td>\n",
       "      <td>3573</td>\n",
       "      <td>35.32046</td>\n",
       "      <td>27.59586</td>\n",
       "      <td>15.81304</td>\n",
       "      <td>21.27064</td>\n",
       "      <td>37.08368</td>\n",
       "      <td>GC content below \\n length above</td>\n",
       "    </tr>\n",
       "    <tr>\n",
       "      <th>1</th>\n",
       "      <td>1</td>\n",
       "      <td>YAL002W</td>\n",
       "      <td>I</td>\n",
       "      <td>3825</td>\n",
       "      <td>31.89542</td>\n",
       "      <td>30.92810</td>\n",
       "      <td>18.74510</td>\n",
       "      <td>18.43137</td>\n",
       "      <td>37.17647</td>\n",
       "      <td>GC content below \\n length above</td>\n",
       "    </tr>\n",
       "    <tr>\n",
       "      <th>2</th>\n",
       "      <td>2</td>\n",
       "      <td>YAL003W</td>\n",
       "      <td>I</td>\n",
       "      <td>987</td>\n",
       "      <td>29.68592</td>\n",
       "      <td>31.10436</td>\n",
       "      <td>18.84498</td>\n",
       "      <td>20.36474</td>\n",
       "      <td>39.20972</td>\n",
       "      <td>GC content below \\n length below</td>\n",
       "    </tr>\n",
       "    <tr>\n",
       "      <th>3</th>\n",
       "      <td>3</td>\n",
       "      <td>YAL005C</td>\n",
       "      <td>I</td>\n",
       "      <td>1929</td>\n",
       "      <td>29.13427</td>\n",
       "      <td>26.80145</td>\n",
       "      <td>21.15086</td>\n",
       "      <td>22.91343</td>\n",
       "      <td>44.06429</td>\n",
       "      <td>GC content above \\n length above</td>\n",
       "    </tr>\n",
       "    <tr>\n",
       "      <th>4</th>\n",
       "      <td>4</td>\n",
       "      <td>YAL007C</td>\n",
       "      <td>I</td>\n",
       "      <td>648</td>\n",
       "      <td>30.86420</td>\n",
       "      <td>32.09877</td>\n",
       "      <td>17.59259</td>\n",
       "      <td>19.44444</td>\n",
       "      <td>37.03703</td>\n",
       "      <td>GC content below \\n length below</td>\n",
       "    </tr>\n",
       "  </tbody>\n",
       "</table>\n",
       "</div>"
      ],
      "text/plain": [
       "   Unnamed: 0  gene_ID chromosome  gene_length[bp]  A_content[%]  \\\n",
       "0           0  YAL001C          I             3573      35.32046   \n",
       "1           1  YAL002W          I             3825      31.89542   \n",
       "2           2  YAL003W          I              987      29.68592   \n",
       "3           3  YAL005C          I             1929      29.13427   \n",
       "4           4  YAL007C          I              648      30.86420   \n",
       "\n",
       "   T_content[%]  C_content[%]  G_content[%]  GC_content[%]  \\\n",
       "0      27.59586      15.81304      21.27064       37.08368   \n",
       "1      30.92810      18.74510      18.43137       37.17647   \n",
       "2      31.10436      18.84498      20.36474       39.20972   \n",
       "3      26.80145      21.15086      22.91343       44.06429   \n",
       "4      32.09877      17.59259      19.44444       37.03703   \n",
       "\n",
       "                           category  \n",
       "0  GC content below \\n length above  \n",
       "1  GC content below \\n length above  \n",
       "2  GC content below \\n length below  \n",
       "3  GC content above \\n length above  \n",
       "4  GC content below \\n length below  "
      ]
     },
     "execution_count": 2,
     "metadata": {},
     "output_type": "execute_result"
    }
   ],
   "source": [
    "# importing data\n",
    "all_genes_df = pd.read_csv('all_genes_df.csv')\n",
    "all_genes_df.head()"
   ]
  },
  {
   "cell_type": "markdown",
   "metadata": {},
   "source": [
    "Before creating regression model, it's good to convert non-numeric (chromosome, category),  type of data into numeric type of data. For that, I will use map() function."
   ]
  },
  {
   "cell_type": "code",
   "execution_count": 3,
   "metadata": {},
   "outputs": [],
   "source": [
    "chromosome_mapper = {}\n",
    "for index, value in enumerate(all_genes_df['chromosome'].unique()):\n",
    "    chromosome_mapper[value] = index + 1\n",
    "all_genes_df['chromosome'] = all_genes_df['chromosome'].map(chromosome_mapper)"
   ]
  },
  {
   "cell_type": "code",
   "execution_count": 4,
   "metadata": {},
   "outputs": [
    {
     "data": {
      "text/html": [
       "<div>\n",
       "<style scoped>\n",
       "    .dataframe tbody tr th:only-of-type {\n",
       "        vertical-align: middle;\n",
       "    }\n",
       "\n",
       "    .dataframe tbody tr th {\n",
       "        vertical-align: top;\n",
       "    }\n",
       "\n",
       "    .dataframe thead th {\n",
       "        text-align: right;\n",
       "    }\n",
       "</style>\n",
       "<table border=\"1\" class=\"dataframe\">\n",
       "  <thead>\n",
       "    <tr style=\"text-align: right;\">\n",
       "      <th></th>\n",
       "      <th>Unnamed: 0</th>\n",
       "      <th>gene_ID</th>\n",
       "      <th>chromosome</th>\n",
       "      <th>gene_length[bp]</th>\n",
       "      <th>A_content[%]</th>\n",
       "      <th>T_content[%]</th>\n",
       "      <th>C_content[%]</th>\n",
       "      <th>G_content[%]</th>\n",
       "      <th>GC_content[%]</th>\n",
       "      <th>category</th>\n",
       "    </tr>\n",
       "  </thead>\n",
       "  <tbody>\n",
       "    <tr>\n",
       "      <th>0</th>\n",
       "      <td>0</td>\n",
       "      <td>YAL001C</td>\n",
       "      <td>1</td>\n",
       "      <td>3573</td>\n",
       "      <td>35.32046</td>\n",
       "      <td>27.59586</td>\n",
       "      <td>15.81304</td>\n",
       "      <td>21.27064</td>\n",
       "      <td>37.08368</td>\n",
       "      <td>GC content below \\n length above</td>\n",
       "    </tr>\n",
       "    <tr>\n",
       "      <th>1</th>\n",
       "      <td>1</td>\n",
       "      <td>YAL002W</td>\n",
       "      <td>1</td>\n",
       "      <td>3825</td>\n",
       "      <td>31.89542</td>\n",
       "      <td>30.92810</td>\n",
       "      <td>18.74510</td>\n",
       "      <td>18.43137</td>\n",
       "      <td>37.17647</td>\n",
       "      <td>GC content below \\n length above</td>\n",
       "    </tr>\n",
       "    <tr>\n",
       "      <th>2</th>\n",
       "      <td>2</td>\n",
       "      <td>YAL003W</td>\n",
       "      <td>1</td>\n",
       "      <td>987</td>\n",
       "      <td>29.68592</td>\n",
       "      <td>31.10436</td>\n",
       "      <td>18.84498</td>\n",
       "      <td>20.36474</td>\n",
       "      <td>39.20972</td>\n",
       "      <td>GC content below \\n length below</td>\n",
       "    </tr>\n",
       "    <tr>\n",
       "      <th>3</th>\n",
       "      <td>3</td>\n",
       "      <td>YAL005C</td>\n",
       "      <td>1</td>\n",
       "      <td>1929</td>\n",
       "      <td>29.13427</td>\n",
       "      <td>26.80145</td>\n",
       "      <td>21.15086</td>\n",
       "      <td>22.91343</td>\n",
       "      <td>44.06429</td>\n",
       "      <td>GC content above \\n length above</td>\n",
       "    </tr>\n",
       "    <tr>\n",
       "      <th>4</th>\n",
       "      <td>4</td>\n",
       "      <td>YAL007C</td>\n",
       "      <td>1</td>\n",
       "      <td>648</td>\n",
       "      <td>30.86420</td>\n",
       "      <td>32.09877</td>\n",
       "      <td>17.59259</td>\n",
       "      <td>19.44444</td>\n",
       "      <td>37.03703</td>\n",
       "      <td>GC content below \\n length below</td>\n",
       "    </tr>\n",
       "  </tbody>\n",
       "</table>\n",
       "</div>"
      ],
      "text/plain": [
       "   Unnamed: 0  gene_ID  chromosome  gene_length[bp]  A_content[%]  \\\n",
       "0           0  YAL001C           1             3573      35.32046   \n",
       "1           1  YAL002W           1             3825      31.89542   \n",
       "2           2  YAL003W           1              987      29.68592   \n",
       "3           3  YAL005C           1             1929      29.13427   \n",
       "4           4  YAL007C           1              648      30.86420   \n",
       "\n",
       "   T_content[%]  C_content[%]  G_content[%]  GC_content[%]  \\\n",
       "0      27.59586      15.81304      21.27064       37.08368   \n",
       "1      30.92810      18.74510      18.43137       37.17647   \n",
       "2      31.10436      18.84498      20.36474       39.20972   \n",
       "3      26.80145      21.15086      22.91343       44.06429   \n",
       "4      32.09877      17.59259      19.44444       37.03703   \n",
       "\n",
       "                           category  \n",
       "0  GC content below \\n length above  \n",
       "1  GC content below \\n length above  \n",
       "2  GC content below \\n length below  \n",
       "3  GC content above \\n length above  \n",
       "4  GC content below \\n length below  "
      ]
     },
     "execution_count": 4,
     "metadata": {},
     "output_type": "execute_result"
    }
   ],
   "source": [
    "all_genes_df.head()"
   ]
  },
  {
   "cell_type": "markdown",
   "metadata": {},
   "source": [
    "Done. Let's start building the model. Gene length is going to be predicted based on chromosome localisation and content of each of the bases - this parameters are pontentially more informative than GC content only."
   ]
  },
  {
   "cell_type": "code",
   "execution_count": 5,
   "metadata": {},
   "outputs": [],
   "source": [
    "# preparing y and X datasets\n",
    "y = all_genes_df['gene_length[bp]']\n",
    "X = all_genes_df.drop(['gene_length[bp]', 'gene_ID', 'category', 'GC_content[%]'], axis=1)"
   ]
  },
  {
   "cell_type": "markdown",
   "metadata": {},
   "source": [
    "Model building road map:\n",
    "\n",
    "- polynomial regression model predicting gene lenght based on chromosome localisation and A, T, G and C contents. Contents of each bases are in theory more informative than GC content only\n",
    "\n",
    "- nested cross-validation as a general good practice in model building. Inner loop done by GridSearchCV() function select an unbiased optimal parameter (in our case a degree of polynomial) for the model. Outer loop done by cross_validate() function results in more accurate model evaluation - testing model on several test sets prevents us from overestimating (or underestimating) model performance. To make sure that testing sets are not participating in model training, GridSearchCV() is used as an estimaor argument in cross_validate().\n",
    "\n",
    "- R2 score will be used in GridSearchCV() for selecting optimal degree for the model.\n",
    "\n",
    "- I want to know what is the best degree selected by GridSearchCV() during each split done by cross_validate() to see if there is a 'universal' optimal degree for various training sets. For that, I extract the optimal degree for each split by using .best_params_. Results will be stored in best_degrees list.\n",
    "\n",
    "- several metrics will be used: ean of R2 scores, root mean square errors and  median absolute errors and their standard deviations. This will give us more information about model performance."
   ]
  },
  {
   "cell_type": "code",
   "execution_count": 25,
   "metadata": {},
   "outputs": [
    {
     "name": "stdout",
     "output_type": "stream",
     "text": [
      "Mean R2 score = 0.1 +/- 0.02\n",
      "Mean root mean square error = 1081.36 +/- 82.08\n",
      "Mean median absolute error = 578.45 +/- 21.86\n",
      "Selected optimal degrees: [2, 2, 2, 3, 3, 3, 3, 3, 2, 3]\n"
     ]
    }
   ],
   "source": [
    "# defying an estimator and list of degrees for checking\n",
    "\n",
    "poly = PolynomialFeatures()\n",
    "lin_reg = LinearRegression()\n",
    "estimator = make_pipeline(poly, lin_reg)\n",
    "\n",
    "# selecting parameters for model tuning\n",
    "param = {'polynomialfeatures__degree' : [1,2,3,4]}\n",
    "\n",
    "# creating best_degrees list for storing best degrees in each cross_validate split.\n",
    "best_degrees = []\n",
    "\n",
    "# preparing metrics for model evaluation\n",
    "scoring = {'r2' : make_scorer(r2_score), \\\n",
    "           'mse' : make_scorer(mean_squared_error), \\\n",
    "           'mae' : make_scorer(median_absolute_error)}\n",
    "\n",
    "# performing nested cross-validation. R2 score for model tuning and metrics in scoring for model evaluation\n",
    "\n",
    "cv_inner = 10\n",
    "cv_outer = 10\n",
    "\n",
    "best_model = GridSearchCV(estimator, param, cv=cv_inner, scoring='r2')\n",
    "scores = cross_validate(best_model, X, y, cv=cv_outer, scoring=scoring, return_estimator=True)\n",
    "\n",
    "# calculating means and standard deviations of each metric scores from splits done by cross_validate()\n",
    "r2_mean = round((scores['test_r2']).mean(), 2)\n",
    "r2_std = round((scores['test_r2']).std(), 2)\n",
    "\n",
    "rmse_mean = round((scores['test_mse']**0.5).mean(), 2) # extracting roots from mean_squared_errors\n",
    "rmse_std = round((scores['test_mse']**0.5).std(), 2)\n",
    "\n",
    "mae_mean = round((scores['test_mae']).mean(), 2)\n",
    "mae_std = round((scores['test_mae']).std(), 2)\n",
    "\n",
    "# extracting best_params for each cross_validate() (outer loop) split\n",
    "for i in range(cv_outer):\n",
    "    best_degrees.append(scores['estimator'][i].best_params_['polynomialfeatures__degree'])\n",
    "\n",
    "\n",
    "# results of the model evaluation\n",
    "print('Mean R2 score =', r2_mean, \"+/-\", r2_std)\n",
    "print('Mean root mean square error =', rmse_mean, \"+/-\", rmse_std)\n",
    "print('Mean median absolute error =', mae_mean, \"+/-\", mae_std)\n",
    "print('Selected optimal degrees:', best_degrees)"
   ]
  },
  {
   "cell_type": "markdown",
   "metadata": {},
   "source": [
    "Well, as predicted in data exploration part, my regression model predicting gene length is useless. Standard deviations for each metrics are rather low, which shows that model performs comparably in various tests sets. In each split in outer loop 3 is selected as the most optimal degree for model functioning. \n",
    "\n",
    "Despite model evaluation is not encouraging, it is still interesting, however, that the R2 score, despite being very low, is above 0. One would expect that gene length, chromosome localization and bases contents are independent features, but here I show that there is a weak relationship between them. Another interesting thing is that median absolute error is much lover than root mean square error. This means that for some genes model performs much better, having a mistake below 568 bases for 50% of the genes, while for the whole dataset the average error is 1070 bases."
   ]
  },
  {
   "cell_type": "markdown",
   "metadata": {},
   "source": [
    "The GridSearchCV() function, in each cross_validate() split, always selected 3 as an optimal degree. I still want to see how model performs for other degrees. For that, I create model_performance function, which will plot model evaluation metrics (R2 score, root mean square error, median absolute error) for each degree. to_degree argument defines till what polynomial degree (starting from 1) the function will prepare model evaluation. Function body is based on the code written in the previous cell, however only a single cross-validation will be performed since we want metrics for each degree. This single cross-validation will yield more accurate model evaluation, because model is tested on several testing sets. The set is splited the same way during each cross-validation, every degree will be tested on the same datasets"
   ]
  },
  {
   "cell_type": "code",
   "execution_count": 26,
   "metadata": {},
   "outputs": [],
   "source": [
    "def model_performance(to_degree, X, y):\n",
    "    \n",
    "    degrees = list(range(1, to_degree+1))\n",
    "    \n",
    "    # preparing lists for storing metric score means and standard deviations\n",
    "    r2_means = []\n",
    "    rmse_means = []\n",
    "    mae_means = []\n",
    "    \n",
    "    r2_std = []\n",
    "    rmse_std = []\n",
    "    mae_std = []\n",
    "    \n",
    "    \n",
    "    # loop collecting metric scores for each degree\n",
    "    for deg in degrees:\n",
    "        poly = PolynomialFeatures(deg)\n",
    "        lin_reg = LinearRegression()\n",
    "        estimator = make_pipeline(poly, lin_reg)\n",
    "        \n",
    "        # preparing metrics\n",
    "        scoring = {'r2' : make_scorer(r2_score), \\\n",
    "                   'mse' : make_scorer(mean_squared_error), \\\n",
    "                   'mae' : make_scorer(median_absolute_error)}\n",
    "        \n",
    "        # cross-validation    \n",
    "        scores = cross_validate(estimator, X, y, cv=10, scoring=scoring)\n",
    "           \n",
    "        # appending lists of means and stds\n",
    "        r2_means.append((scores['test_r2']).mean())\n",
    "        rmse_means.append((scores['test_mse']**0.5).mean()) # root of mse\n",
    "        mae_means.append((scores['test_mae']).mean()) # converting for absolute values\n",
    "    \n",
    "        r2_std.append((scores['test_r2']).std())\n",
    "        rmse_std.append((scores['test_mse']**0.5).std()) # root of mse\n",
    "        mae_std.append((scores['test_mae']).std()) # converting for absolute values\n",
    "        \n",
    "    \n",
    "    # plotting models evaluations\n",
    "    fig, (ax1, ax2, ax3) = plt.subplots(3)\n",
    "    fig.set_size_inches([5, 9])\n",
    "                       \n",
    "    ax1.errorbar(degrees, r2_means, yerr=r2_std, capsize=5, marker='o', linestyle='none')\n",
    "    ax1.set_title('R2 score')\n",
    "    ax1.set_xticks(degrees)\n",
    "    \n",
    "    ax2.errorbar(degrees, rmse_means, yerr=rmse_std, capsize=5, marker='o', linestyle='none')\n",
    "    ax2.set_title('Root mean squared error')\n",
    "    ax2.set_xticks(degrees)\n",
    "    \n",
    "    ax3.errorbar(degrees, mae_means, yerr=mae_std, capsize=5, marker='o', linestyle='none')\n",
    "    ax3.set_title('Median absolute error')\n",
    "    ax3.set_xticks(degrees)\n",
    "    \n",
    "    plt.tight_layout()\n",
    "    plt.show()        "
   ]
  },
  {
   "cell_type": "code",
   "execution_count": 27,
   "metadata": {},
   "outputs": [
    {
     "data": {
      "image/png": "[encoded data removed]",
      "text/plain": [
       "<Figure size 360x648 with 3 Axes>"
      ]
     },
     "metadata": {
      "needs_background": "light"
     },
     "output_type": "display_data"
    }
   ],
   "source": [
    "model_performance(4, X, y)"
   ]
  },
  {
   "cell_type": "markdown",
   "metadata": {},
   "source": [
    "The chart shows that 3 seems to be optimal degree - not only R2 score is the highers, the erros for other metrics are the lowest.\n",
    "\n",
    "Of course, I played a bit with higher degrees, however above the 4th model become very unstable (huge standard deviations) and difference between 1sth and 4th degrees are not visible on the chart, so I leave charts up to the 4th degree only"
   ]
  },
  {
   "cell_type": "code",
   "execution_count": null,
   "metadata": {},
   "outputs": [],
   "source": []
  }
 ],
 "metadata": {
  "kernelspec": {
   "display_name": "Python 3",
   "language": "python",
   "name": "python3"
  },
  "language_info": {
   "codemirror_mode": {
    "name": "ipython",
    "version": 3
   },
   "file_extension": ".py",
   "mimetype": "text/x-python",
   "name": "python",
   "nbconvert_exporter": "python",
   "pygments_lexer": "ipython3",
   "version": "3.6.4"
  }
 },
 "nbformat": 4,
 "nbformat_minor": 4
}
